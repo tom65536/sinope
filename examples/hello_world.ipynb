{
 "cells": [
  {
   "cell_type": "markdown",
   "id": "15481d95-8b80-4b33-a7b4-9c031c8a823e",
   "metadata": {},
   "source": [
    "# Hello World\n",
    "This notebook shows some simple language examples."
   ]
  },
  {
   "cell_type": "code",
   "execution_count": 1,
   "id": "66d84657-9be7-4240-b441-bd8622405e23",
   "metadata": {},
   "outputs": [
    {
     "data": {
      "text/plain": [
       "'\"Hello World\" println.'"
      ]
     },
     "execution_count": 1,
     "metadata": {},
     "output_type": "execute_result"
    }
   ],
   "source": [
    "\"Hello World\" println."
   ]
  },
  {
   "cell_type": "code",
   "execution_count": 2,
   "id": "d3d95585-eefd-46b8-b1ec-ba73ca2d1ea1",
   "metadata": {},
   "outputs": [
    {
     "data": {
      "text/plain": [
       "'16#03FA1E'"
      ]
     },
     "execution_count": 2,
     "metadata": {},
     "output_type": "execute_result"
    }
   ],
   "source": [
    "16#03FA1E"
   ]
  },
  {
   "cell_type": "code",
   "execution_count": null,
   "id": "19e77350-08cd-4e44-bea1-d1edecbd62bd",
   "metadata": {},
   "outputs": [],
   "source": []
  }
 ],
 "metadata": {
  "kernelspec": {
   "display_name": "Sinope Language Kernel",
   "language": "sinope",
   "name": "sinope_kernel"
  },
  "language_info": {
   "file_extension": ".txt",
   "help_links": [
    {
     "text": "MetaKernel Magics",
     "url": "https://metakernel.readthedocs.io/en/latest/source/README.html"
    }
   ],
   "mimetype": "text/plain",
   "name": "text"
  }
 },
 "nbformat": 4,
 "nbformat_minor": 5
}
